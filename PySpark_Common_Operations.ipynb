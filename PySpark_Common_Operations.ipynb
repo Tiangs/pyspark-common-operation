{
 "cells": [
  {
   "cell_type": "markdown",
   "metadata": {},
   "source": [
    "# PySpark Common Operations"
   ]
  },
  {
   "cell_type": "code",
   "execution_count": 1,
   "metadata": {},
   "outputs": [],
   "source": [
    "from pyspark.sql import SparkSession\n",
    "\n",
    "spark = SparkSession.builder.getOrCreate()"
   ]
  },
  {
   "cell_type": "markdown",
   "metadata": {},
   "source": [
    "### Use case: Data Profiling "
   ]
  },
  {
   "cell_type": "code",
   "execution_count": 17,
   "metadata": {},
   "outputs": [
    {
     "data": {
      "text/plain": [
       "DataFrame[a: bigint, b: double, c: string, d: date, e: timestamp]"
      ]
     },
     "execution_count": 17,
     "metadata": {},
     "output_type": "execute_result"
    }
   ],
   "source": [
    "from datetime import datetime, date\n",
    "import pandas as pd\n",
    "from pyspark.sql import Row\n",
    "\n",
    "df = spark.createDataFrame([\n",
    "    Row(a=1, b=2., c='string1', d=date(2000, 1, 1), e=datetime(2000, 1, 1, 12, 0)),\n",
    "    Row(a=2, b=3., c='string2', d=date(2000, 2, 1), e=datetime(2000, 1, 2, 12, 0)),\n",
    "    Row(a=4, b=5., c='string3', d=date(2000, 3, 1), e=datetime(2000, 1, 3, 12, 0)),\n",
    "    Row(a=4, b=5., c='string3', d=date(2000, 3, 1), e=datetime(2000, 1, 3, 12, 0)), # Totally duplicate\n",
    "    Row(a=4, b=5., c='string3', d=date(2000, 5, 1), e=datetime(2000, 1, 3, 12, 0)), # Part duplicate\n",
    "    Row(a=None, b=5., c='string3', d=date(2000, 3, 1), e=datetime(2000, 1, 3, 12, 0)), # PK contains Null\n",
    "    Row(a=6, b=None, c='string3', d=date(2000, 3, 1), e=datetime(2000, 1, 3, 12, 0)) # PK contains Null\n",
    "\n",
    "\n",
    "])\n",
    "df"
   ]
  },
  {
   "cell_type": "code",
   "execution_count": 4,
   "metadata": {},
   "outputs": [
    {
     "name": "stdout",
     "output_type": "stream",
     "text": [
      "+----+---+-------+----------+-------------------+\n",
      "|   a|  b|      c|         d|                  e|\n",
      "+----+---+-------+----------+-------------------+\n",
      "|   1|2.0|string1|2000-01-01|2000-01-01 12:00:00|\n",
      "|   2|3.0|string2|2000-02-01|2000-01-02 12:00:00|\n",
      "|   4|5.0|string3|2000-03-01|2000-01-03 12:00:00|\n",
      "|   4|5.0|string3|2000-03-01|2000-01-03 12:00:00|\n",
      "|   4|5.0|string3|2000-05-01|2000-01-03 12:00:00|\n",
      "|null|5.0|string3|2000-03-01|2000-01-03 12:00:00|\n",
      "+----+---+-------+----------+-------------------+\n",
      "\n"
     ]
    }
   ],
   "source": [
    "df.show()"
   ]
  },
  {
   "cell_type": "code",
   "execution_count": 18,
   "metadata": {},
   "outputs": [],
   "source": [
    "PK = ['a','b','c']\n"
   ]
  },
  {
   "cell_type": "code",
   "execution_count": 23,
   "metadata": {},
   "outputs": [
    {
     "name": "stdout",
     "output_type": "stream",
     "text": [
      "+----+----+-------+----------+-------------------+----------------+\n",
      "|   a|   b|      c|         d|                  e|            desc|\n",
      "+----+----+-------+----------+-------------------+----------------+\n",
      "|null| 5.0|string3|2000-03-01|2000-01-03 12:00:00|PK Contains Null|\n",
      "|   6|null|string3|2000-03-01|2000-01-03 12:00:00|PK Contains Null|\n",
      "+----+----+-------+----------+-------------------+----------------+\n",
      "\n"
     ]
    }
   ],
   "source": [
    "# PK null check\n",
    "from pyspark.sql.functions import lit\n",
    "null_check_str = ' is null or '.join(PK) + ' is null'\n",
    "df_null = df.filter(null_check_str)\n",
    "df_null = df_null.withColumn('desc',lit('PK Contains Null'))\n",
    "df_null.show()"
   ]
  },
  {
   "cell_type": "code",
   "execution_count": 25,
   "metadata": {},
   "outputs": [],
   "source": [
    "from pyspark.sql.functions import count"
   ]
  },
  {
   "cell_type": "code",
   "execution_count": null,
   "metadata": {},
   "outputs": [],
   "source": [
    "df = "
   ]
  }
 ],
 "metadata": {
  "kernelspec": {
   "display_name": "Python 3",
   "language": "python",
   "name": "python3"
  },
  "language_info": {
   "codemirror_mode": {
    "name": "ipython",
    "version": 3
   },
   "file_extension": ".py",
   "mimetype": "text/x-python",
   "name": "python",
   "nbconvert_exporter": "python",
   "pygments_lexer": "ipython3",
   "version": "3.7.4"
  }
 },
 "nbformat": 4,
 "nbformat_minor": 2
}
