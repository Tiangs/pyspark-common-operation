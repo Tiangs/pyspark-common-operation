{
 "cells": [
  {
   "cell_type": "markdown",
   "metadata": {},
   "source": [
    "# PySpark Toolkit"
   ]
  },
  {
   "cell_type": "code",
   "execution_count": 42,
   "metadata": {},
   "outputs": [],
   "source": [
    "from pyspark.sql import SparkSession\n",
    "\n",
    "spark = SparkSession.builder.getOrCreate()"
   ]
  },
  {
   "cell_type": "markdown",
   "metadata": {},
   "source": [
    "### Use case : Data Profiling "
   ]
  },
  {
   "cell_type": "code",
   "execution_count": 44,
   "metadata": {},
   "outputs": [
    {
     "name": "stdout",
     "output_type": "stream",
     "text": [
      "+----+----+-------+----------+-------------------+\n",
      "|   a|   b|      c|         d|                  e|\n",
      "+----+----+-------+----------+-------------------+\n",
      "|   1| 2.0|string1|2000-01-01|2000-01-01 12:00:00|\n",
      "|   2| 3.0|string2|2000-02-01|2000-01-02 12:00:00|\n",
      "|   4| 5.0|string3|2000-03-01|2000-01-03 12:00:00|\n",
      "|   4| 5.0|string3|2000-03-01|2000-01-03 12:00:00|\n",
      "|   4| 5.0|string3|2000-05-01|2000-01-03 12:00:00|\n",
      "|null| 5.0|string3|2000-03-01|2000-01-03 12:00:00|\n",
      "|   6|null|string3|2000-03-01|2000-01-03 12:00:00|\n",
      "+----+----+-------+----------+-------------------+\n",
      "\n"
     ]
    }
   ],
   "source": [
    "from datetime import datetime, date\n",
    "import pandas as pd\n",
    "from pyspark.sql import Row\n",
    "\n",
    "df = spark.createDataFrame([\n",
    "    Row(a=1, b=2., c='string1', d=date(2000, 1, 1), e=datetime(2000, 1, 1, 12, 0)),\n",
    "    Row(a=2, b=3., c='string2', d=date(2000, 2, 1), e=datetime(2000, 1, 2, 12, 0)),\n",
    "    Row(a=4, b=5., c='string3', d=date(2000, 3, 1), e=datetime(2000, 1, 3, 12, 0)),\n",
    "    Row(a=4, b=5., c='string3', d=date(2000, 3, 1), e=datetime(2000, 1, 3, 12, 0)), # Totally duplicate\n",
    "    Row(a=4, b=5., c='string3', d=date(2000, 5, 1), e=datetime(2000, 1, 3, 12, 0)), # Part duplicate\n",
    "    Row(a=None, b=5., c='string3', d=date(2000, 3, 1), e=datetime(2000, 1, 3, 12, 0)), # PK contains Null\n",
    "    Row(a=6, b=None, c='string3', d=date(2000, 3, 1), e=datetime(2000, 1, 3, 12, 0)) # PK contains Null\n",
    "])\n",
    "df.show()"
   ]
  },
  {
   "cell_type": "code",
   "execution_count": 52,
   "metadata": {},
   "outputs": [],
   "source": [
    "PK = ['a','b','c']"
   ]
  },
  {
   "cell_type": "code",
   "execution_count": 6,
   "metadata": {},
   "outputs": [
    {
     "name": "stdout",
     "output_type": "stream",
     "text": [
      "+----+----+-------+----------+-------------------+----------------+\n",
      "|   a|   b|      c|         d|                  e|            desc|\n",
      "+----+----+-------+----------+-------------------+----------------+\n",
      "|null| 5.0|string3|2000-03-01|2000-01-03 12:00:00|PK Contains Null|\n",
      "|   6|null|string3|2000-03-01|2000-01-03 12:00:00|PK Contains Null|\n",
      "+----+----+-------+----------+-------------------+----------------+\n",
      "\n"
     ]
    }
   ],
   "source": [
    "# PK null check\n",
    "from pyspark.sql.functions import lit\n",
    "null_check_str = ' is null or '.join(PK) + ' is null'\n",
    "df_null = df.filter(null_check_str)\n",
    "df_null = df_null.withColumn('desc',lit('PK Contains Null'))\n",
    "df_null.show()"
   ]
  },
  {
   "cell_type": "code",
   "execution_count": 7,
   "metadata": {},
   "outputs": [],
   "source": [
    "from pyspark.sql.functions import count\n"
   ]
  },
  {
   "cell_type": "code",
   "execution_count": 61,
   "metadata": {},
   "outputs": [
    {
     "name": "stdout",
     "output_type": "stream",
     "text": [
      "+---+---+-------+-----+\n",
      "|  a|  b|      c|count|\n",
      "+---+---+-------+-----+\n",
      "|  4|5.0|string3|    3|\n",
      "+---+---+-------+-----+\n",
      "\n"
     ]
    }
   ],
   "source": [
    "from pyspark.sql.functions import col\n",
    "df_dups = df.groupby(PK).count().filter('count>1')\n",
    "\n",
    "df_dups = df_dups.select(PK+[\"count\"])\n",
    "df_dups.show()"
   ]
  },
  {
   "cell_type": "code",
   "execution_count": 68,
   "metadata": {},
   "outputs": [
    {
     "name": "stdout",
     "output_type": "stream",
     "text": [
      "+----+----+-------+\n",
      "|   a|   b|      c|\n",
      "+----+----+-------+\n",
      "|   1| 2.0|string1|\n",
      "|   2| 3.0|string2|\n",
      "|null| 5.0|string3|\n",
      "|   6|null|string3|\n",
      "+----+----+-------+\n",
      "\n"
     ]
    }
   ],
   "source": [
    "df.join(df_dups,on=PK,how='left').where('count is null').select(PK).show()\n"
   ]
  },
  {
   "cell_type": "code",
   "execution_count": 69,
   "metadata": {
    "scrolled": true
   },
   "outputs": [],
   "source": [
    "def pk_null_check(df,):\n",
    "    \n",
    "    return df_null\n",
    "\n",
    "def pk_dups_check(df):\n",
    "    \n",
    "    return df_dups\n",
    "\n",
    "def profiling_data(df,PK = []):\n",
    "    \n",
    "    return df_clean,df_reject\n",
    "    "
   ]
  },
  {
   "cell_type": "code",
   "execution_count": null,
   "metadata": {},
   "outputs": [],
   "source": []
  },
  {
   "cell_type": "markdown",
   "metadata": {},
   "source": [
    "### Use case : Data Sampling"
   ]
  },
  {
   "cell_type": "markdown",
   "metadata": {},
   "source": [
    "### Use case : Row to Column"
   ]
  },
  {
   "cell_type": "code",
   "execution_count": null,
   "metadata": {},
   "outputs": [],
   "source": []
  }
 ],
 "metadata": {
  "kernelspec": {
   "display_name": "Python 3",
   "language": "python",
   "name": "python3"
  },
  "language_info": {
   "codemirror_mode": {
    "name": "ipython",
    "version": 3
   },
   "file_extension": ".py",
   "mimetype": "text/x-python",
   "name": "python",
   "nbconvert_exporter": "python",
   "pygments_lexer": "ipython3",
   "version": "3.7.4"
  }
 },
 "nbformat": 4,
 "nbformat_minor": 2
}
